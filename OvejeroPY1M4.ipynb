{
 "cells": [
  {
   "cell_type": "code",
   "execution_count": 75,
   "metadata": {},
   "outputs": [
    {
     "name": "stdout",
     "output_type": "stream",
     "text": [
      "Minimo: 20.229, Maximo: 28.873, Promedio: 24.096, Promedio2: 24.551\n"
     ]
    }
   ],
   "source": [
    "# Ejercicio 1\n",
    "temperaturas = [26.75431352056954, 21.991086464852872, 27.209759257701366, 23.443668324912598, 28.8725217962772, \n",
    "                20.731695645337763, 22.58962536117254, 24.846285051127114, 26.074481791289337, 22.085936681499903, \n",
    "                23.913576519730877, 27.678759112104154, 24.381354548084965, 23.19239923228099, 20.803472013144523, \n",
    "                21.30390306534694, 27.102859960400624, 23.763191774421054, 25.157825319899203, 20.2290281340311, \n",
    "                26.746902019682647, 22.750408458130667, 20.26298637657635, 26.423788201931604]\n",
    "\n",
    "minimo = round(min(temperaturas), 3)\n",
    "maximo = round(max(temperaturas), 3)\n",
    "promedio = round(sum(temperaturas) / len(temperaturas), 3)\n",
    "promedio2 = round((minimo + maximo) / 2, 3)\n",
    "print(f\"Minimo: {minimo}, Maximo: {maximo}, Promedio: {promedio}, Promedio2: {promedio2}\")\n"
   ]
  },
  {
   "cell_type": "code",
   "execution_count": 72,
   "metadata": {},
   "outputs": [
    {
     "name": "stdout",
     "output_type": "stream",
     "text": [
      "Sensores con error: 19, y sin error: 21\n"
     ]
    }
   ],
   "source": [
    "# Ejercicio\n",
    "estadoSensores = [True, True, True, False, False, False, True, False, True, False, False, True, True, False, \n",
    "                  False, True, False, False, False, True,True, False, False, False, True, True, True, False, True, \n",
    "                  True, True, False, False, True, False, False, False, True,True, False]\n",
    "\n",
    "totalEdoSensores = {'Error': str(estadoSensores).count('True'), 'Ok': str(estadoSensores).count('False')}\n",
    "print(f\"Sensores con error: {totalEdoSensores['Error']}, y sin error: {totalEdoSensores['Ok']}\")\n"
   ]
  }
 ],
 "metadata": {
  "kernelspec": {
   "display_name": "comp",
   "language": "python",
   "name": "python3"
  },
  "language_info": {
   "codemirror_mode": {
    "name": "ipython",
    "version": 3
   },
   "file_extension": ".py",
   "mimetype": "text/x-python",
   "name": "python",
   "nbconvert_exporter": "python",
   "pygments_lexer": "ipython3",
   "version": "3.12.3"
  }
 },
 "nbformat": 4,
 "nbformat_minor": 2
}
