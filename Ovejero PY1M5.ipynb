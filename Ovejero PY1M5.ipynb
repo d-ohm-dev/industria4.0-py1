{
 "cells": [
  {
   "cell_type": "code",
   "execution_count": 36,
   "metadata": {},
   "outputs": [],
   "source": [
    "# Ejericcio 1\n",
    "\n",
    "Temperaturas1=[27.1, 22.3, 26.8, 23.5, 22.7, 15.3, 26.6, 16.9, 18.1, 24.7, 23.8, 18.4, 26.1, 27.5, 27.3, 21.9, 25.4, 25.1, 20.4, 16.2, 27.5, 22.7, 25.9, 21.2]\n",
    "Temperaturas2=[25.4, 21.5, 27.3, 25.5, 20.2, 26.6, 16.1, 27.7, 26.4, 24.0, 22.6, 19.4, 27.0, 18.3, 25.0, 24.3, 25.6, 27.1, 15.6, 27.1, 26.6, 22.7, 20.4, 23.3]\n",
    "Temperaturas3=[16.4, 20.5, 23.5, 17.3, 26.2, 26.2, 22.9, 21.2, 24.2, 26.0, 18.7, 27.5, 25.0, 22.7, 21.7, 22.7, 23.3, 25.0, 26.7, 18.7, 19.6, 23.9, 20.0, 17.2]\n",
    "\n",
    "def funcion1(temps):\n",
    "    promedio = round(sum(temps)/len(temps), 1)\n",
    "    min_temp= round(min(temps), 1)\n",
    "    max_temp= round(max(temps), 1)\n",
    "    max_22_temps= [temp for temp in temps if temp < 22.0]\n",
    "    return (promedio, min_temp, max_temp, len(max_22_temps))\n",
    "\n",
    "n_temps = funcion1(Temperaturas3)"
   ]
  },
  {
   "cell_type": "code",
   "execution_count": 37,
   "metadata": {},
   "outputs": [
    {
     "name": "stdout",
     "output_type": "stream",
     "text": [
      "Temperatura Promedio: 22.4, Temperatura mínima: 16.4, Temperatura máxima: 27.5, Temperaturas menores a 22º: 10\n"
     ]
    }
   ],
   "source": [
    "def funcion2(temps):\n",
    "    print(f'Temperatura Promedio: {temps[0]}, Temperatura mínima: {temps[1]}, Temperatura máxima: {temps[2]}, Temperaturas menores a 22º: {temps[3]}')\n",
    "\n",
    "funcion2(n_temps)"
   ]
  },
  {
   "cell_type": "code",
   "execution_count": 41,
   "metadata": {},
   "outputs": [
    {
     "name": "stdout",
     "output_type": "stream",
     "text": [
      "48.83\n"
     ]
    }
   ],
   "source": [
    "# Ejercicio 2\n",
    "\n",
    "def escalarValores(valor_analogico, minimo_ing=0, maximo_ing=32767, minimo=0.0, maximo=100.0):\n",
    "    return round((valor_analogico - minimo_ing) * (maximo - minimo) / (maximo_ing - minimo_ing) + minimo, 2)\n",
    "\n",
    "print(escalarValores(16000))"
   ]
  },
  {
   "cell_type": "code",
   "execution_count": 35,
   "metadata": {},
   "outputs": [
    {
     "name": "stdout",
     "output_type": "stream",
     "text": [
      "El producto producto2 tiene 7\n",
      "El producto producto4 tiene 5\n"
     ]
    }
   ],
   "source": [
    "# Ejercicio 3\n",
    "\n",
    "productos_stock = {'producto1': 15, 'producto2': 7, 'producto3': 11, 'producto4': 5}\n",
    "\n",
    "for producto in productos_stock:\n",
    "    if productos_stock[producto] < 10:\n",
    "        print(f\"El producto {producto} tiene {productos_stock[producto]}\")"
   ]
  },
  {
   "cell_type": "code",
   "execution_count": 40,
   "metadata": {},
   "outputs": [
    {
     "name": "stdout",
     "output_type": "stream",
     "text": [
      "Las temperaturas anormales son: [31, 33, 31, 32]\n"
     ]
    }
   ],
   "source": [
    "# Ejercicio 4\n",
    "\n",
    "temperaturas = [28, 29, 31, 27, 33, 29, 30, 31, 32, 28]\n",
    "\n",
    "temperaturas_anormales = [temp for temp in temperaturas if temp > 30]\n",
    "print(f'Las temperaturas anormales son: {temperaturas_anormales}')"
   ]
  }
 ],
 "metadata": {
  "kernelspec": {
   "display_name": "comp",
   "language": "python",
   "name": "python3"
  },
  "language_info": {
   "codemirror_mode": {
    "name": "ipython",
    "version": 3
   },
   "file_extension": ".py",
   "mimetype": "text/x-python",
   "name": "python",
   "nbconvert_exporter": "python",
   "pygments_lexer": "ipython3",
   "version": "3.12.3"
  }
 },
 "nbformat": 4,
 "nbformat_minor": 2
}
