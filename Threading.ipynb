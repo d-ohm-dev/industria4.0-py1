{
 "cells": [
  {
   "cell_type": "code",
   "execution_count": 1,
   "metadata": {},
   "outputs": [],
   "source": [
    "import time\n",
    "import threading\n",
    "\n",
    "#Definimos la función que se ejecutará en cada hilo con un delay recibido por parámetro\n",
    "def miFuncion(numero, delay, bucle):\n",
    "    while bucle.is_set():\n",
    "        print(f\"Función {numero}, se ejecuta cada {delay} segundos\")\n",
    "        time.sleep(delay)\n",
    "\n",
    "# Implementamos la libreria a traves de su método Event.set() \n",
    "bucle = threading.Event()\n",
    "bucle.set()\n",
    "\n",
    "# Definimos los hilos usando la clase Thread y con el daemon = True indicamos que los hilos se ejecutaran en segundo plano\n",
    "# esto hace que los hilos se detengan al cerrar el programa y se ejecuten de forma ordenada a traves de un temporizador.\n",
    "# No implementa el uso de otro proceso en segundo plano porque para este caso no es necesario y para ello, python requiere\n",
    "# la librería multiprocessing y configuración adicional.\n",
    "hilo1 = threading.Thread(\n",
    "    target = miFuncion,\n",
    "    args = ( 1, 1, bucle),\n",
    "    daemon = True\n",
    ")\n",
    "hilo2 = threading.Thread(\n",
    "    target=miFuncion,\n",
    "    args=(2,3, bucle),\n",
    "    daemon=True\n",
    ")"
   ]
  },
  {
   "cell_type": "code",
   "execution_count": 4,
   "metadata": {},
   "outputs": [
    {
     "ename": "RuntimeError",
     "evalue": "threads can only be started once",
     "output_type": "error",
     "traceback": [
      "\u001b[1;31m---------------------------------------------------------------------------\u001b[0m",
      "\u001b[1;31mRuntimeError\u001b[0m                              Traceback (most recent call last)",
      "Cell \u001b[1;32mIn[4], line 2\u001b[0m\n\u001b[0;32m      1\u001b[0m \u001b[38;5;66;03m# Iniciamos los hilos\u001b[39;00m\n\u001b[1;32m----> 2\u001b[0m \u001b[43mhilo1\u001b[49m\u001b[38;5;241;43m.\u001b[39;49m\u001b[43mstart\u001b[49m\u001b[43m(\u001b[49m\u001b[43m)\u001b[49m\n\u001b[0;32m      3\u001b[0m hilo2\u001b[38;5;241m.\u001b[39mstart(\n\u001b[0;32m      4\u001b[0m \n\u001b[0;32m      5\u001b[0m )\n\u001b[0;32m      6\u001b[0m \u001b[38;5;28;01mtry\u001b[39;00m:\n",
      "File \u001b[1;32mc:\\Users\\demia\\.pyenv\\pyenv-win\\versions\\3.12.4\\Lib\\threading.py:987\u001b[0m, in \u001b[0;36mThread.start\u001b[1;34m(self)\u001b[0m\n\u001b[0;32m    984\u001b[0m     \u001b[38;5;28;01mraise\u001b[39;00m \u001b[38;5;167;01mRuntimeError\u001b[39;00m(\u001b[38;5;124m\"\u001b[39m\u001b[38;5;124mthread.__init__() not called\u001b[39m\u001b[38;5;124m\"\u001b[39m)\n\u001b[0;32m    986\u001b[0m \u001b[38;5;28;01mif\u001b[39;00m \u001b[38;5;28mself\u001b[39m\u001b[38;5;241m.\u001b[39m_started\u001b[38;5;241m.\u001b[39mis_set():\n\u001b[1;32m--> 987\u001b[0m     \u001b[38;5;28;01mraise\u001b[39;00m \u001b[38;5;167;01mRuntimeError\u001b[39;00m(\u001b[38;5;124m\"\u001b[39m\u001b[38;5;124mthreads can only be started once\u001b[39m\u001b[38;5;124m\"\u001b[39m)\n\u001b[0;32m    989\u001b[0m \u001b[38;5;28;01mwith\u001b[39;00m _active_limbo_lock:\n\u001b[0;32m    990\u001b[0m     _limbo[\u001b[38;5;28mself\u001b[39m] \u001b[38;5;241m=\u001b[39m \u001b[38;5;28mself\u001b[39m\n",
      "\u001b[1;31mRuntimeError\u001b[0m: threads can only be started once"
     ]
    }
   ],
   "source": [
    "# Iniciamos los hilos\n",
    "hilo1.start()\n",
    "hilo2.start()\n",
    "\n",
    "try:\n",
    "    while True:\n",
    "        print(\"Hilo principal\")\n",
    "        time.sleep(5)\n",
    "except KeyboardInterrupt:\n",
    "    print(\"Saliendo...\")\n",
    "    bucle.clear()\n",
    "    print(\"Ejecucion finalizada\")"
   ]
  }
 ],
 "metadata": {
  "kernelspec": {
   "display_name": "Python 3",
   "language": "python",
   "name": "python3"
  },
  "language_info": {
   "codemirror_mode": {
    "name": "ipython",
    "version": 3
   },
   "file_extension": ".py",
   "mimetype": "text/x-python",
   "name": "python",
   "nbconvert_exporter": "python",
   "pygments_lexer": "ipython3",
   "version": "3.12.4"
  }
 },
 "nbformat": 4,
 "nbformat_minor": 2
}
