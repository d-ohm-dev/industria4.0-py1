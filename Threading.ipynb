{
 "cells": [
  {
   "cell_type": "code",
   "execution_count": 10,
   "metadata": {},
   "outputs": [],
   "source": [
    "import time\n",
    "import threading\n",
    "\n",
    "#Definimos la función que se ejecutará en cada hilo con un delay recibido por parámetro\n",
    "def miFuncion(numero, delay, bucle):\n",
    "    while bucle.is_set():\n",
    "        print(f\"Función {numero}, se ejecuta cada {delay} segundos\")\n",
    "        time.sleep(delay)\n",
    "\n",
    "# Implementamos la libreria a traves de su método Event.set() \n",
    "bucle = threading.Event()\n",
    "bucle.set()\n",
    "\n",
    "# Definimos los hilos usando la clase Thread y con el daemon = True indicamos que los hilos se ejecutaran en segundo plano\n",
    "# esto hace que los hilos se detengan al cerrar el programa y se ejecuten de forma ordenada a traves de un temporizador.\n",
    "# No implementa el uso de otro proceso en segundo plano porque para este caso no es necesario y para ello, python requiere\n",
    "# la librería multiprocessing y configuración adicional.\n",
    "hilo1 = threading.Thread(\n",
    "    target = miFuncion,\n",
    "    args = ( 1, 1, bucle),\n",
    "    daemon = True\n",
    ")\n",
    "hilo2 = threading.Thread(\n",
    "    target=miFuncion,\n",
    "    args=(2,3, bucle),\n",
    "    daemon=True\n",
    ")"
   ]
  },
  {
   "cell_type": "code",
   "execution_count": null,
   "metadata": {},
   "outputs": [],
   "source": [
    "# Iniciamos los hilos\n",
    "hilo1.start()\n",
    "hilo2.start()\n",
    "\n",
    "# Implementamos un bucle \"try\"/\"except\" para evitar sobrecargas por errores, ademas nos permite\n",
    "# finalizar el bucle en cualquier momento con solo presionar Ctrl + C o Stop en la interfaz de Jupyter\n",
    "try:\n",
    "    while True:\n",
    "        print(\"Hilo principal\")\n",
    "        time.sleep(5)\n",
    "except KeyboardInterrupt:\n",
    "    print(\"Saliendo...\")\n",
    "    bucle.clear()\n",
    "    print(\"Ejecucion finalizada\")"
   ]
  }
 ],
 "metadata": {
  "kernelspec": {
   "display_name": "Python 3",
   "language": "python",
   "name": "python3"
  },
  "language_info": {
   "codemirror_mode": {
    "name": "ipython",
    "version": 3
   },
   "file_extension": ".py",
   "mimetype": "text/x-python",
   "name": "python",
   "nbconvert_exporter": "python",
   "pygments_lexer": "ipython3",
   "version": "3.12.4"
  }
 },
 "nbformat": 4,
 "nbformat_minor": 2
}
