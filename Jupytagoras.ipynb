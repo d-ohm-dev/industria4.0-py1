{
 "cells": [
  {
   "cell_type": "code",
   "execution_count": 4,
   "metadata": {},
   "outputs": [
    {
     "name": "stdout",
     "output_type": "stream",
     "text": [
      "esta es la hipotenusa:  5.0\n"
     ]
    }
   ],
   "source": [
    "a = float(input(\"catet_a: \"))\n",
    "b = float(input(\"cateto_b: \"))\n",
    "hip = (a**2 + b**2)**0.5\n",
    "print(\"esta es la hipotenusa: \", hip)"
   ]
  }
 ],
 "metadata": {
  "kernelspec": {
   "display_name": "comp",
   "language": "python",
   "name": "python3"
  },
  "language_info": {
   "codemirror_mode": {
    "name": "ipython",
    "version": 3
   },
   "file_extension": ".py",
   "mimetype": "text/x-python",
   "name": "python",
   "nbconvert_exporter": "python",
   "pygments_lexer": "ipython3",
   "version": "3.12.3"
  }
 },
 "nbformat": 4,
 "nbformat_minor": 2
}
