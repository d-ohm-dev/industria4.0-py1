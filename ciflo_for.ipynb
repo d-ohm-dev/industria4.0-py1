{
 "cells": [
  {
   "cell_type": "code",
   "execution_count": 1,
   "metadata": {},
   "outputs": [],
   "source": [
    "palabra = \"Caudalímetro\"\n",
    "lista_letras = []\n",
    "for letra in palabra:\n",
    "    lista_letras.append(letra)"
   ]
  },
  {
   "cell_type": "code",
   "execution_count": 2,
   "metadata": {},
   "outputs": [
    {
     "data": {
      "text/plain": [
       "['C', 'a', 'u', 'd', 'a', 'l', 'í', 'm', 'e', 't', 'r', 'o']"
      ]
     },
     "execution_count": 2,
     "metadata": {},
     "output_type": "execute_result"
    }
   ],
   "source": [
    "lista_letras"
   ]
  },
  {
   "cell_type": "code",
   "execution_count": 3,
   "metadata": {},
   "outputs": [
    {
     "data": {
      "text/plain": [
       "'o'"
      ]
     },
     "execution_count": 3,
     "metadata": {},
     "output_type": "execute_result"
    }
   ],
   "source": [
    "lista_letras[-1]"
   ]
  },
  {
   "cell_type": "code",
   "execution_count": 4,
   "metadata": {},
   "outputs": [
    {
     "name": "stdout",
     "output_type": "stream",
     "text": [
      "Numero de repeticiones:  1\n",
      "Numero de repeticiones:  2\n",
      "Numero de repeticiones:  3\n",
      "Numero de repeticiones:  4\n",
      "Numero de repeticiones:  5\n",
      "Numero de repeticiones:  6\n",
      "Numero de repeticiones:  7\n"
     ]
    }
   ],
   "source": [
    "for repeticion in range(7):\n",
    "    print(\"Numero de repeticiones: \", repeticion+1)"
   ]
  }
 ],
 "metadata": {
  "kernelspec": {
   "display_name": "comp",
   "language": "python",
   "name": "python3"
  },
  "language_info": {
   "codemirror_mode": {
    "name": "ipython",
    "version": 3
   },
   "file_extension": ".py",
   "mimetype": "text/x-python",
   "name": "python",
   "nbconvert_exporter": "python",
   "pygments_lexer": "ipython3",
   "version": "3.12.3"
  }
 },
 "nbformat": 4,
 "nbformat_minor": 2
}
