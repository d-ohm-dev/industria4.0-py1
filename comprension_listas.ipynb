{
 "cells": [
  {
   "cell_type": "code",
   "execution_count": 2,
   "metadata": {},
   "outputs": [
    {
     "name": "stdout",
     "output_type": "stream",
     "text": [
      "[-4, -47, -100]\n"
     ]
    }
   ],
   "source": [
    "numeros = [5, 8, -4, 20, 33, -47, 25, -100]\n",
    "\n",
    "negativos = [i for i in numeros if i < 0]\n",
    "print(negativos)"
   ]
  },
  {
   "cell_type": "code",
   "execution_count": 1,
   "metadata": {},
   "outputs": [],
   "source": [
    "sensores_temperatura = {\n",
    "    \"Sala de producción\": 25.5,\n",
    "    \"Oficinas administrativas\": 22.1,\n",
    "    \"Almacen principal\": 18.7,\n",
    "    \"Área de carga y descarga\": 27.8,\n",
    "    \"Laboratorio de control de calidad\": 24.3,\n",
    "    \"Zona de empaque\": 21.6,\n",
    "    \"Área de refrigeración\": 15.9,\n",
    "    \"Sala de máquinas\": 28.2,\n",
    "    \"Comerdor de empleados\": 20.5,\n",
    "    \"Pasillos de distribución\": 23.8\n",
    "}"
   ]
  },
  {
   "cell_type": "code",
   "execution_count": 2,
   "metadata": {},
   "outputs": [
    {
     "name": "stdout",
     "output_type": "stream",
     "text": [
      "Sala de producción\n",
      "Oficinas administrativas\n",
      "Almacen principal\n",
      "Área de carga y descarga\n",
      "Laboratorio de control de calidad\n",
      "Zona de empaque\n",
      "Área de refrigeración\n",
      "Sala de máquinas\n",
      "Comerdor de empleados\n",
      "Pasillos de distribución\n"
     ]
    }
   ],
   "source": [
    "for sensor in sensores_temperatura:\n",
    "    print(sensor)\n",
    "# imprime solo los nombres de los sensores"
   ]
  },
  {
   "cell_type": "code",
   "execution_count": 3,
   "metadata": {},
   "outputs": [
    {
     "name": "stdout",
     "output_type": "stream",
     "text": [
      "25.5\n",
      "22.1\n",
      "18.7\n",
      "27.8\n",
      "24.3\n",
      "21.6\n",
      "15.9\n",
      "28.2\n",
      "20.5\n",
      "23.8\n"
     ]
    }
   ],
   "source": [
    "for sensor in sensores_temperatura:\n",
    "    print(sensores_temperatura[sensor])\n",
    "# imprime solo los valores de los sensores"
   ]
  },
  {
   "cell_type": "code",
   "execution_count": 7,
   "metadata": {},
   "outputs": [
    {
     "data": {
      "text/plain": [
       "['Almacen principal',\n",
       " 'Zona de empaque',\n",
       " 'Área de refrigeración',\n",
       " 'Comerdor de empleados']"
      ]
     },
     "execution_count": 7,
     "metadata": {},
     "output_type": "execute_result"
    }
   ],
   "source": [
    "calefaccionar = [sensor for sensor in sensores_temperatura if sensores_temperatura[sensor] < 22.0]\n",
    "calefaccionar\n",
    "# imprime los nombres de los sensores que tienen una temperatura menor a 22.0"
   ]
  },
  {
   "cell_type": "code",
   "execution_count": 8,
   "metadata": {},
   "outputs": [
    {
     "name": "stdout",
     "output_type": "stream",
     "text": [
      "Sala de producción 25.5\n",
      "Oficinas administrativas 22.1\n",
      "Almacen principal 18.7\n",
      "Área de carga y descarga 27.8\n",
      "Laboratorio de control de calidad 24.3\n",
      "Zona de empaque 21.6\n",
      "Área de refrigeración 15.9\n",
      "Sala de máquinas 28.2\n",
      "Comerdor de empleados 20.5\n",
      "Pasillos de distribución 23.8\n"
     ]
    }
   ],
   "source": [
    "for sensor, temperatura in sensores_temperatura.items():\n",
    "    print(sensor, temperatura)\n",
    "# imprime los nombres de los sensores y sus valores\n",
    "# \".items()\" devuelve en forma de Tupla la clave y los valores asociados"
   ]
  },
  {
   "cell_type": "code",
   "execution_count": 9,
   "metadata": {},
   "outputs": [
    {
     "data": {
      "text/plain": [
       "['Almacen principal',\n",
       " 'Zona de empaque',\n",
       " 'Área de refrigeración',\n",
       " 'Comerdor de empleados']"
      ]
     },
     "execution_count": 9,
     "metadata": {},
     "output_type": "execute_result"
    }
   ],
   "source": [
    "calefaccionar = [sensor for sensor, temperatura in sensores_temperatura.items() if temperatura < 22.0]\n",
    "calefaccionar\n",
    "# imprime los nombres de los sensores que tienen una temperatura menor a 22.0 de una forma mas elegante"
   ]
  },
  {
   "cell_type": "code",
   "execution_count": 10,
   "metadata": {},
   "outputs": [
    {
     "data": {
      "text/plain": [
       "{'Almacen principal': 18.7,\n",
       " 'Zona de empaque': 21.6,\n",
       " 'Área de refrigeración': 15.9,\n",
       " 'Comerdor de empleados': 20.5}"
      ]
     },
     "execution_count": 10,
     "metadata": {},
     "output_type": "execute_result"
    }
   ],
   "source": [
    "calefaccionar = {sensor: temperatura for sensor, temperatura in sensores_temperatura.items() if temperatura < 22.0}\n",
    "calefaccionar\n",
    "# imprime los nombres de los sensores y sus valores de una forma mas elegante"
   ]
  }
 ],
 "metadata": {
  "kernelspec": {
   "display_name": "comp",
   "language": "python",
   "name": "python3"
  },
  "language_info": {
   "codemirror_mode": {
    "name": "ipython",
    "version": 3
   },
   "file_extension": ".py",
   "mimetype": "text/x-python",
   "name": "python",
   "nbconvert_exporter": "python",
   "pygments_lexer": "ipython3",
   "version": "3.12.3"
  }
 },
 "nbformat": 4,
 "nbformat_minor": 2
}
